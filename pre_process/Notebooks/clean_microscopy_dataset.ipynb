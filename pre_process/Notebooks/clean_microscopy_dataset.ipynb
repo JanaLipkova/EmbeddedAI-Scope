{
 "cells": [
  {
   "cell_type": "code",
   "execution_count": 10,
   "metadata": {},
   "outputs": [],
   "source": [
    "import os\n",
    "import pandas as pd\n",
    "import numpy as np"
   ]
  },
  {
   "cell_type": "code",
   "execution_count": 24,
   "metadata": {},
   "outputs": [],
   "source": [
    "source = '../../data/bwh_lung_microscopy_img/'\n",
    "#source = '../../data/bwh_head_neck_microscopy_img/'\n",
    "#source = '../../data/bwh_head_neck_microscopy_img_new/'\n",
    "#source = '../../data/bwh_lung_test_data_for_bowen'"
   ]
  },
  {
   "cell_type": "code",
   "execution_count": 28,
   "metadata": {},
   "outputs": [],
   "source": [
    "imgs = sorted(os.listdir(source))"
   ]
  },
  {
   "cell_type": "code",
   "execution_count": 29,
   "metadata": {},
   "outputs": [
    {
     "data": {
      "text/html": [
       "<div>\n",
       "<style scoped>\n",
       "    .dataframe tbody tr th:only-of-type {\n",
       "        vertical-align: middle;\n",
       "    }\n",
       "\n",
       "    .dataframe tbody tr th {\n",
       "        vertical-align: top;\n",
       "    }\n",
       "\n",
       "    .dataframe thead th {\n",
       "        text-align: right;\n",
       "    }\n",
       "</style>\n",
       "<table border=\"1\" class=\"dataframe\">\n",
       "  <thead>\n",
       "    <tr style=\"text-align: right;\">\n",
       "      <th></th>\n",
       "      <th>img</th>\n",
       "      <th>slide_id</th>\n",
       "      <th>img_id</th>\n",
       "    </tr>\n",
       "  </thead>\n",
       "  <tbody>\n",
       "    <tr>\n",
       "      <th>0</th>\n",
       "      <td>BD2020_00002587_1.jpeg</td>\n",
       "      <td>BD2020_00002587</td>\n",
       "      <td>1</td>\n",
       "    </tr>\n",
       "    <tr>\n",
       "      <th>1</th>\n",
       "      <td>BD2020_00002587_2.jpeg</td>\n",
       "      <td>BD2020_00002587</td>\n",
       "      <td>2</td>\n",
       "    </tr>\n",
       "    <tr>\n",
       "      <th>2</th>\n",
       "      <td>BD2020_00002616_1.jpeg</td>\n",
       "      <td>BD2020_00002616</td>\n",
       "      <td>1</td>\n",
       "    </tr>\n",
       "    <tr>\n",
       "      <th>3</th>\n",
       "      <td>BD2020_00002616_2.jpeg</td>\n",
       "      <td>BD2020_00002616</td>\n",
       "      <td>2</td>\n",
       "    </tr>\n",
       "    <tr>\n",
       "      <th>4</th>\n",
       "      <td>BD2020_00002617_1.jpeg</td>\n",
       "      <td>BD2020_00002617</td>\n",
       "      <td>1</td>\n",
       "    </tr>\n",
       "    <tr>\n",
       "      <th>...</th>\n",
       "      <td>...</td>\n",
       "      <td>...</td>\n",
       "      <td>...</td>\n",
       "    </tr>\n",
       "    <tr>\n",
       "      <th>1107</th>\n",
       "      <td>BD2020_00020486_2.jpeg</td>\n",
       "      <td>BD2020_00020486</td>\n",
       "      <td>2</td>\n",
       "    </tr>\n",
       "    <tr>\n",
       "      <th>1108</th>\n",
       "      <td>BD2020_00020486_3.jpeg</td>\n",
       "      <td>BD2020_00020486</td>\n",
       "      <td>3</td>\n",
       "    </tr>\n",
       "    <tr>\n",
       "      <th>1109</th>\n",
       "      <td>BD2020_00020487_1.jpeg</td>\n",
       "      <td>BD2020_00020487</td>\n",
       "      <td>1</td>\n",
       "    </tr>\n",
       "    <tr>\n",
       "      <th>1110</th>\n",
       "      <td>BD2020_00020487_2.jpeg</td>\n",
       "      <td>BD2020_00020487</td>\n",
       "      <td>2</td>\n",
       "    </tr>\n",
       "    <tr>\n",
       "      <th>1111</th>\n",
       "      <td>BD2020_00020487_3.jpeg</td>\n",
       "      <td>BD2020_00020487</td>\n",
       "      <td>3</td>\n",
       "    </tr>\n",
       "  </tbody>\n",
       "</table>\n",
       "<p>1112 rows × 3 columns</p>\n",
       "</div>"
      ],
      "text/plain": [
       "                         img         slide_id img_id\n",
       "0     BD2020_00002587_1.jpeg  BD2020_00002587      1\n",
       "1     BD2020_00002587_2.jpeg  BD2020_00002587      2\n",
       "2     BD2020_00002616_1.jpeg  BD2020_00002616      1\n",
       "3     BD2020_00002616_2.jpeg  BD2020_00002616      2\n",
       "4     BD2020_00002617_1.jpeg  BD2020_00002617      1\n",
       "...                      ...              ...    ...\n",
       "1107  BD2020_00020486_2.jpeg  BD2020_00020486      2\n",
       "1108  BD2020_00020486_3.jpeg  BD2020_00020486      3\n",
       "1109  BD2020_00020487_1.jpeg  BD2020_00020487      1\n",
       "1110  BD2020_00020487_2.jpeg  BD2020_00020487      2\n",
       "1111  BD2020_00020487_3.jpeg  BD2020_00020487      3\n",
       "\n",
       "[1112 rows x 3 columns]"
      ]
     },
     "execution_count": 29,
     "metadata": {},
     "output_type": "execute_result"
    }
   ],
   "source": [
    "df = pd.DataFrame({'img': imgs})\n",
    "df['slide_id'] = df['img'].str.split('_').str[:2].str.join('_')\n",
    "df['img_id'] = df['img'].str.split('_').str[2].str.rstrip('.jpeg')\n",
    "df.slide_id.value_counts()\n",
    "df"
   ]
  },
  {
   "cell_type": "code",
   "execution_count": 30,
   "metadata": {},
   "outputs": [],
   "source": [
    "df.to_csv('../bwh_lung_microscopy_imgs.csv', index=False)\n",
    "#df.to_csv('../bwh_lung_test_data_for_bowen.csv', index=False)"
   ]
  },
  {
   "cell_type": "code",
   "execution_count": null,
   "metadata": {},
   "outputs": [],
   "source": []
  }
 ],
 "metadata": {
  "kernelspec": {
   "display_name": "Python 3",
   "language": "python",
   "name": "python3"
  },
  "language_info": {
   "codemirror_mode": {
    "name": "ipython",
    "version": 3
   },
   "file_extension": ".py",
   "mimetype": "text/x-python",
   "name": "python",
   "nbconvert_exporter": "python",
   "pygments_lexer": "ipython3",
   "version": "3.7.7"
  }
 },
 "nbformat": 4,
 "nbformat_minor": 4
}
