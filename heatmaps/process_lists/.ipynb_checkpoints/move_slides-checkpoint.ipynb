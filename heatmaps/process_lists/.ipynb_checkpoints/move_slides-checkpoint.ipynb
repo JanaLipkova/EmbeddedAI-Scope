{
 "cells": [
  {
   "cell_type": "code",
   "execution_count": 1,
   "metadata": {},
   "outputs": [],
   "source": [
    "import pandas as pd\n",
    "import numpy as np\n",
    "import os\n",
    "import pdb"
   ]
  },
  {
   "cell_type": "code",
   "execution_count": 23,
   "metadata": {},
   "outputs": [],
   "source": [
    "#csv_files = [file for file in os.listdir('.') if file[-4:]=='.csv']\n",
    "project_root = '/home/fedshyvana/Desktop/projects/lab_clam/heatmaps/process_lists'\n",
    "\n",
    "csv_files = ['heatmap_liver_site_sample.csv', 'heatmap_squam_oncopanel_sample.csv']\n",
    "['heatmap_lymph_site_sample.csv']\n",
    "dfs = [pd.read_csv(os.path.join(project_root, csv_file))['slide_id'] for csv_file in csv_files]\n",
    "df = pd.concat(dfs).drop_duplicates().reset_index(drop=True)"
   ]
  },
  {
   "cell_type": "code",
   "execution_count": 24,
   "metadata": {},
   "outputs": [
    {
     "data": {
      "text/plain": [
       "0      BL-13-D43108\n",
       "1      BL-13-E44935\n",
       "2      BL-13-K42829\n",
       "3      BL-13-M42060\n",
       "4      BL-13-R29120\n",
       "           ...     \n",
       "331    BL-19-N16102\n",
       "332    BL-19-N47939\n",
       "333    BL-19-R28491\n",
       "334    BL-19-R60695\n",
       "335    BL-19-T51485\n",
       "Name: slide_id, Length: 336, dtype: object"
      ]
     },
     "execution_count": 24,
     "metadata": {},
     "output_type": "execute_result"
    }
   ],
   "source": [
    "df"
   ]
  },
  {
   "cell_type": "code",
   "execution_count": 25,
   "metadata": {},
   "outputs": [],
   "source": [
    "ext='.svs'\n",
    "data_dir = '/media/lab_drive/Phani'\n",
    "dest_dir = '/data/oncopanel_met_primary_heatmap_slides'"
   ]
  },
  {
   "cell_type": "code",
   "execution_count": 26,
   "metadata": {},
   "outputs": [],
   "source": [
    "for slide in df:\n",
    "    if os.path.isfile(os.path.join(dest_dir, slide+'.svs')):\n",
    "        continue\n",
    "    print(slide+'.svs')\n",
    "    os.system('cp {} {}'.format(os.path.join(data_dir, slide+'.svs'), dest_dir))"
   ]
  },
  {
   "cell_type": "code",
   "execution_count": 42,
   "metadata": {},
   "outputs": [],
   "source": [
    "tcga_df = pd.read_csv(os.path.join(project_root,'primary_heatmap_tcga.csv')).set_index('slide_id')\n",
    "tcga_df.index\n",
    "slides = np.char.strip(np.array(os.listdir('/data/tcga_heatmap_slides')),'.svs')"
   ]
  },
  {
   "cell_type": "code",
   "execution_count": 44,
   "metadata": {},
   "outputs": [
    {
     "name": "stderr",
     "output_type": "stream",
     "text": [
      "ERROR:root:Internal Python error in the inspect module.\n",
      "Below is the traceback from this internal error.\n",
      "\n"
     ]
    },
    {
     "name": "stdout",
     "output_type": "stream",
     "text": [
      "Traceback (most recent call last):\n",
      "  File \"/home/fedshyvana/anaconda3/envs/deep_learning/lib/python3.7/site-packages/IPython/core/interactiveshell.py\", line 3331, in run_code\n",
      "    exec(code_obj, self.user_global_ns, self.user_ns)\n",
      "  File \"<ipython-input-44-1293e612a9a3>\", line 1, in <module>\n",
      "    common_df = tcga_df.loc[slides]\n",
      "  File \"/home/fedshyvana/anaconda3/envs/deep_learning/lib/python3.7/site-packages/pandas/core/indexing.py\", line 1768, in __getitem__\n",
      "    return self._getitem_axis(maybe_callable, axis=axis)\n",
      "  File \"/home/fedshyvana/anaconda3/envs/deep_learning/lib/python3.7/site-packages/pandas/core/indexing.py\", line 1954, in _getitem_axis\n",
      "    return self._getitem_iterable(key, axis=axis)\n",
      "  File \"/home/fedshyvana/anaconda3/envs/deep_learning/lib/python3.7/site-packages/pandas/core/indexing.py\", line 1595, in _getitem_iterable\n",
      "    keyarr, indexer = self._get_listlike_indexer(key, axis, raise_missing=False)\n",
      "  File \"/home/fedshyvana/anaconda3/envs/deep_learning/lib/python3.7/site-packages/pandas/core/indexing.py\", line 1553, in _get_listlike_indexer\n",
      "    keyarr, indexer, o._get_axis_number(axis), raise_missing=raise_missing\n",
      "  File \"/home/fedshyvana/anaconda3/envs/deep_learning/lib/python3.7/site-packages/pandas/core/indexing.py\", line 1655, in _validate_read_indexer\n",
      "    \"Passing list-likes to .loc or [] with any missing labels \"\n",
      "KeyError: 'Passing list-likes to .loc or [] with any missing labels is no longer supported, see https://pandas.pydata.org/pandas-docs/stable/user_guide/indexing.html#deprecate-loc-reindex-listlike'\n",
      "\n",
      "During handling of the above exception, another exception occurred:\n",
      "\n",
      "Traceback (most recent call last):\n",
      "  File \"/home/fedshyvana/anaconda3/envs/deep_learning/lib/python3.7/site-packages/IPython/core/interactiveshell.py\", line 2044, in showtraceback\n",
      "    stb = value._render_traceback_()\n",
      "AttributeError: 'KeyError' object has no attribute '_render_traceback_'\n",
      "\n",
      "During handling of the above exception, another exception occurred:\n",
      "\n",
      "Traceback (most recent call last):\n",
      "  File \"/home/fedshyvana/anaconda3/envs/deep_learning/lib/python3.7/site-packages/IPython/core/ultratb.py\", line 1148, in get_records\n",
      "    return _fixed_getinnerframes(etb, number_of_lines_of_context, tb_offset)\n",
      "  File \"/home/fedshyvana/anaconda3/envs/deep_learning/lib/python3.7/site-packages/IPython/core/ultratb.py\", line 316, in wrapped\n",
      "    return f(*args, **kwargs)\n",
      "  File \"/home/fedshyvana/anaconda3/envs/deep_learning/lib/python3.7/site-packages/IPython/core/ultratb.py\", line 350, in _fixed_getinnerframes\n",
      "    records = fix_frame_records_filenames(inspect.getinnerframes(etb, context))\n",
      "  File \"/home/fedshyvana/anaconda3/envs/deep_learning/lib/python3.7/inspect.py\", line 1502, in getinnerframes\n",
      "    frameinfo = (tb.tb_frame,) + getframeinfo(tb, context)\n",
      "  File \"/home/fedshyvana/anaconda3/envs/deep_learning/lib/python3.7/inspect.py\", line 1460, in getframeinfo\n",
      "    filename = getsourcefile(frame) or getfile(frame)\n",
      "  File \"/home/fedshyvana/anaconda3/envs/deep_learning/lib/python3.7/inspect.py\", line 696, in getsourcefile\n",
      "    if getattr(getmodule(object, filename), '__loader__', None) is not None:\n",
      "  File \"/home/fedshyvana/anaconda3/envs/deep_learning/lib/python3.7/inspect.py\", line 725, in getmodule\n",
      "    file = getabsfile(object, _filename)\n",
      "  File \"/home/fedshyvana/anaconda3/envs/deep_learning/lib/python3.7/inspect.py\", line 709, in getabsfile\n",
      "    return os.path.normcase(os.path.abspath(_filename))\n",
      "  File \"/home/fedshyvana/anaconda3/envs/deep_learning/lib/python3.7/posixpath.py\", line 383, in abspath\n",
      "    cwd = os.getcwd()\n",
      "FileNotFoundError: [Errno 2] No such file or directory\n"
     ]
    },
    {
     "ename": "KeyError",
     "evalue": "'Passing list-likes to .loc or [] with any missing labels is no longer supported, see https://pandas.pydata.org/pandas-docs/stable/user_guide/indexing.html#deprecate-loc-reindex-listlike'",
     "output_type": "error",
     "traceback": [
      "\u001b[0;31m---------------------------------------------------------------------------\u001b[0m"
     ]
    }
   ],
   "source": [
    "common_df = tcga_df.loc[slides]\n",
    "common_df.to_csv(os.path.join(project_root, 'primary_heatmap_tcga.csv'))\n"
   ]
  },
  {
   "cell_type": "code",
   "execution_count": null,
   "metadata": {},
   "outputs": [],
   "source": []
  }
 ],
 "metadata": {
  "kernelspec": {
   "display_name": "Python 3",
   "language": "python",
   "name": "python3"
  },
  "language_info": {
   "codemirror_mode": {
    "name": "ipython",
    "version": 3
   },
   "file_extension": ".py",
   "mimetype": "text/x-python",
   "name": "python",
   "nbconvert_exporter": "python",
   "pygments_lexer": "ipython3",
   "version": "3.7.7"
  }
 },
 "nbformat": 4,
 "nbformat_minor": 4
}
